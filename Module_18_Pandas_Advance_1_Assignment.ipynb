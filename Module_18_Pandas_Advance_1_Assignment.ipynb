{
  "nbformat": 4,
  "nbformat_minor": 0,
  "metadata": {
    "colab": {
      "provenance": []
    },
    "kernelspec": {
      "name": "python3",
      "display_name": "Python 3"
    },
    "language_info": {
      "name": "python"
    }
  },
  "cells": [
    {
      "cell_type": "markdown",
      "source": [
        "Q1. List any five functions of the pandas library with execution."
      ],
      "metadata": {
        "id": "Sa8Xp_2nx8PZ"
      }
    },
    {
      "cell_type": "code",
      "source": [
        "import pandas as pd\n",
        "\n",
        "# Read data from CSV file into DataFrame\n",
        "df = pd.read_csv('data.csv')\n",
        "\n",
        "# Display the first few rows of the DataFrame\n",
        "print(df.head())\n",
        "\n",
        "# Display summary information about the DataFrame\n",
        "print(df.info())\n",
        "\n",
        "# Display descriptive statistics for numerical columns\n",
        "print(df.describe())\n",
        "\n",
        "# Remove rows with missing values\n",
        "df_clean = df.dropna()"
      ],
      "metadata": {
        "id": "ctleOGD1yB5m"
      },
      "execution_count": null,
      "outputs": []
    },
    {
      "cell_type": "markdown",
      "source": [
        "Q2. Given a Pandas DataFrame df with columns 'A', 'B', and 'C', write a Python function to re-index the\n",
        "DataFrame with a new index that starts from 1 and increments by 2 for each row."
      ],
      "metadata": {
        "id": "Y5JPaB34yOS7"
      }
    },
    {
      "cell_type": "code",
      "source": [
        "def reindex_dataframe(df):\n",
        "    # Reset the index of the DataFrame\n",
        "    df_reset = df.reset_index(drop=True)\n",
        "\n",
        "    # Generate new index values starting from 1 and incrementing by 2\n",
        "    new_index = pd.Series(range(1, len(df_reset) * 2, 2))\n",
        "\n",
        "    # Assign the new index to the DataFrame\n",
        "    df_reset.index = new_index\n",
        "\n",
        "    return df_reset\n",
        "\n",
        "# Example DataFrame\n",
        "df = pd.DataFrame({'A': [10, 20, 30],\n",
        "                   'B': [40, 50, 60],\n",
        "                   'C': [70, 80, 90]})\n",
        "\n",
        "# Re-index the DataFrame\n",
        "df_reindexed = reindex_dataframe(df)\n",
        "\n",
        "# Print the re-indexed DataFrame\n",
        "print(df_reindexed)"
      ],
      "metadata": {
        "id": "MpqI54gTyXWR"
      },
      "execution_count": null,
      "outputs": []
    },
    {
      "cell_type": "markdown",
      "source": [
        "Q3. You have a Pandas DataFrame df with a column named 'Values'. Write a Python function that\n",
        "iterates over the DataFrame and calculates the sum of the first three values in the 'Values' column. The\n",
        "function should print the sum to the console.\n",
        "For example, if the 'Values' column of df contains the values [10, 20, 30, 40, 50], your function should\n",
        "calculate and print the sum of the first three values, which is 60."
      ],
      "metadata": {
        "id": "ZwMCwOKfya-a"
      }
    },
    {
      "cell_type": "code",
      "source": [
        "import pandas as pd\n",
        "\n",
        "def calculate_sum_of_first_three_values(df):\n",
        "    # Select the first three values from the 'Values' column\n",
        "    first_three_values = df['Values'].iloc[:3]\n",
        "\n",
        "    # Calculate the sum of the first three values\n",
        "    sum_of_first_three_values = first_three_values.sum()\n",
        "\n",
        "    # Print the sum to the console\n",
        "    print(\"Sum of the first three values:\", sum_of_first_three_values)\n",
        "\n",
        "# Example DataFrame\n",
        "df = pd.DataFrame({'Values': [10, 20, 30, 40, 50]})\n",
        "\n",
        "# Call the function to calculate the sum of the first three values\n",
        "calculate_sum_of_first_three_values(df)"
      ],
      "metadata": {
        "id": "OzgOinOEyg7s"
      },
      "execution_count": null,
      "outputs": []
    },
    {
      "cell_type": "markdown",
      "source": [
        "Q4. Given a Pandas DataFrame df with a column 'Text', write a Python function to create a new column\n",
        "'Word_Count' that contains the number of words in each row of the 'Text' column."
      ],
      "metadata": {
        "id": "arWqz-u9ylRj"
      }
    },
    {
      "cell_type": "code",
      "source": [
        "import pandas as pd\n",
        "\n",
        "def add_word_count_column(df):\n",
        "    # Function to count the number of words in a text\n",
        "    def count_words(text):\n",
        "        return len(text.split())\n",
        "\n",
        "    # Apply the count_words function to each row of the 'Text' column\n",
        "    df['Word_Count'] = df['Text'].apply(lambda x: count_words(x))\n",
        "\n",
        "    return df\n",
        "\n",
        "# Example DataFrame\n",
        "df = pd.DataFrame({'Text': ['This is a sentence.', 'Another sentence with more words.']})\n",
        "\n",
        "# Call the function to add the 'Word_Count' column\n",
        "df_with_word_count = add_word_count_column(df)\n",
        "\n",
        "# Print the DataFrame with the new column\n",
        "print(df_with_word_count)"
      ],
      "metadata": {
        "id": "Xf7oL0Qryq9R"
      },
      "execution_count": null,
      "outputs": []
    },
    {
      "cell_type": "markdown",
      "source": [
        "Q5. How are DataFrame.size() and DataFrame.shape() different?"
      ],
      "metadata": {
        "id": "DEWJlEnUywI1"
      }
    },
    {
      "cell_type": "markdown",
      "source": [
        "DataFrame.size returns the total number of elements in the DataFrame, while DataFrame.shape returns a tuple representing the dimensions of the DataFrame in terms of the number of rows and columns."
      ],
      "metadata": {
        "id": "XJ6jJQSTy2ek"
      }
    },
    {
      "cell_type": "markdown",
      "source": [
        "Q6. Which function of pandas do we use to read an excel file?"
      ],
      "metadata": {
        "id": "lPkXjLd5y6yN"
      }
    },
    {
      "cell_type": "code",
      "source": [
        "import pandas as pd\n",
        "\n",
        "# Read data from an Excel file into a DataFrame\n",
        "df = pd.read_excel('file.xlsx')\n",
        "\n",
        "# Display the DataFrame\n",
        "print(df)"
      ],
      "metadata": {
        "id": "XvgZLt8ozCno"
      },
      "execution_count": null,
      "outputs": []
    },
    {
      "cell_type": "markdown",
      "source": [
        "Q7. You have a Pandas DataFrame df that contains a column named 'Email' that contains email\n",
        "addresses in the format 'username@domain.com'. Write a Python function that creates a new column\n",
        "'Username' in df that contains only the username part of each email address.\n",
        "The username is the part of the email address that appears before the '@' symbol. For example, if the\n",
        "email address is 'john.doe@example.com', the 'Username' column should contain 'john.doe'. Your\n",
        "function should extract the username from each email address and store it in the new 'Username'\n",
        "column."
      ],
      "metadata": {
        "id": "Lmm2gCibzGU7"
      }
    },
    {
      "cell_type": "code",
      "source": [
        "import pandas as pd\n",
        "\n",
        "def extract_username(df):\n",
        "    # Split each email address at the '@' symbol and extract the username part\n",
        "    df['Username'] = df['Email'].apply(lambda x: x.split('@')[0])\n",
        "\n",
        "    return df\n",
        "\n",
        "# Example DataFrame\n",
        "df = pd.DataFrame({'Email': ['john.doe@example.com', 'jane.smith@example.com']})\n",
        "\n",
        "# Call the function to extract the username and create the 'Username' column\n",
        "df_with_username = extract_username(df)\n",
        "\n",
        "# Print the DataFrame with the new 'Username' column\n",
        "print(df_with_username)\n"
      ],
      "metadata": {
        "id": "6c9V-KtCzLkC"
      },
      "execution_count": null,
      "outputs": []
    },
    {
      "cell_type": "markdown",
      "source": [
        "Q8. You have a Pandas DataFrame df with columns 'A', 'B', and 'C'. Write a Python function that selects\n",
        "all rows where the value in column 'A' is greater than 5 and the value in column 'B' is less than 10. The\n",
        "function should return a new DataFrame that contains only the selected rows.\n",
        "For example, if df contains the following values:\n",
        "A B C\n",
        "0 3 5 1\n",
        "1 8 2 7\n",
        "2 6 9 4\n",
        "3 2 3 5\n",
        "4 9 1 2"
      ],
      "metadata": {
        "id": "_TNPKiVJzTZC"
      }
    },
    {
      "cell_type": "code",
      "source": [
        "import pandas as pd\n",
        "\n",
        "def select_rows(df):\n",
        "    # Filter rows where value in column 'A' is greater than 5 and value in column 'B' is less than 10\n",
        "    selected_rows = df[(df['A'] > 5) & (df['B'] < 10)]\n",
        "\n",
        "    return selected_rows\n",
        "\n",
        "# Example DataFrame\n",
        "df = pd.DataFrame({'A': [3, 8, 6, 2, 9],\n",
        "                   'B': [5, 2, 9, 3, 1],\n",
        "                   'C': [1, 7, 4, 5, 2]})\n",
        "\n",
        "# Call the function to select rows based on the conditions\n",
        "selected_df = select_rows(df)\n",
        "\n",
        "# Print the DataFrame with selected rows\n",
        "print(selected_df)"
      ],
      "metadata": {
        "id": "UgfmlvJAzaMC"
      },
      "execution_count": null,
      "outputs": []
    }
  ]
}